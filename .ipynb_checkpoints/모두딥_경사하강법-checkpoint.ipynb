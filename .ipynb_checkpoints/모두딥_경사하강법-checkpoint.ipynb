{
 "cells": [
  {
   "cell_type": "code",
   "execution_count": 1,
   "metadata": {},
   "outputs": [],
   "source": [
    "import tensorflow as tf"
   ]
  },
  {
   "cell_type": "code",
   "execution_count": 3,
   "metadata": {},
   "outputs": [],
   "source": [
    "import numpy as np"
   ]
  },
  {
   "cell_type": "code",
   "execution_count": 4,
   "metadata": {},
   "outputs": [],
   "source": [
    "data = np.array([[2,81], [4, 93], [6, 91], [8,97] ])"
   ]
  },
  {
   "cell_type": "code",
   "execution_count": 5,
   "metadata": {},
   "outputs": [
    {
     "data": {
      "text/plain": [
       "array([[ 2, 81],\n",
       "       [ 4, 93],\n",
       "       [ 6, 91],\n",
       "       [ 8, 97]])"
      ]
     },
     "execution_count": 5,
     "metadata": {},
     "output_type": "execute_result"
    }
   ],
   "source": [
    "data"
   ]
  },
  {
   "cell_type": "markdown",
   "metadata": {},
   "source": [
    "## 독립변수"
   ]
  },
  {
   "cell_type": "code",
   "execution_count": 10,
   "metadata": {},
   "outputs": [],
   "source": [
    "x_data = data[:, 0]"
   ]
  },
  {
   "cell_type": "code",
   "execution_count": 11,
   "metadata": {},
   "outputs": [
    {
     "data": {
      "text/plain": [
       "array([2, 4, 6, 8])"
      ]
     },
     "execution_count": 11,
     "metadata": {},
     "output_type": "execute_result"
    }
   ],
   "source": [
    "x_data"
   ]
  },
  {
   "cell_type": "markdown",
   "metadata": {},
   "source": [
    "## 종속변수 : 정답"
   ]
  },
  {
   "cell_type": "code",
   "execution_count": 12,
   "metadata": {},
   "outputs": [],
   "source": [
    "y_data = data[:,1]"
   ]
  },
  {
   "cell_type": "code",
   "execution_count": 13,
   "metadata": {},
   "outputs": [
    {
     "data": {
      "text/plain": [
       "array([81, 93, 91, 97])"
      ]
     },
     "execution_count": 13,
     "metadata": {},
     "output_type": "execute_result"
    }
   ],
   "source": [
    "y_data"
   ]
  },
  {
   "cell_type": "code",
   "execution_count": null,
   "metadata": {},
   "outputs": [],
   "source": []
  },
  {
   "cell_type": "markdown",
   "metadata": {},
   "source": [
    "## 기울기, 편향 등 가중치"
   ]
  },
  {
   "cell_type": "code",
   "execution_count": 16,
   "metadata": {},
   "outputs": [],
   "source": [
    "a = tf.Variable(tf.random_uniform([1], 0, 10, dtype=tf.float64, seed=0))"
   ]
  },
  {
   "cell_type": "code",
   "execution_count": 18,
   "metadata": {},
   "outputs": [],
   "source": [
    "b = tf.Variable(tf.random_uniform([1], 0.,100., dtype = tf.float64, seed=0))"
   ]
  },
  {
   "cell_type": "markdown",
   "metadata": {},
   "source": [
    "## 실제 계산값을 연산자"
   ]
  },
  {
   "cell_type": "code",
   "execution_count": 22,
   "metadata": {},
   "outputs": [],
   "source": [
    "y = a * x_data + b"
   ]
  },
  {
   "cell_type": "markdown",
   "metadata": {},
   "source": [
    "### 텐서플로우 함수로 표시"
   ]
  },
  {
   "cell_type": "code",
   "execution_count": 25,
   "metadata": {},
   "outputs": [],
   "source": [
    "y_ = tf.add(tf.multiply(a, x_data), b)"
   ]
  },
  {
   "cell_type": "code",
   "execution_count": 23,
   "metadata": {},
   "outputs": [
    {
     "data": {
      "text/plain": [
       "<tf.Tensor 'add_4:0' shape=(4,) dtype=float64>"
      ]
     },
     "execution_count": 23,
     "metadata": {},
     "output_type": "execute_result"
    }
   ],
   "source": [
    "y"
   ]
  },
  {
   "cell_type": "code",
   "execution_count": 26,
   "metadata": {},
   "outputs": [
    {
     "data": {
      "text/plain": [
       "<tf.Tensor 'Add_5:0' shape=(4,) dtype=float64>"
      ]
     },
     "execution_count": 26,
     "metadata": {},
     "output_type": "execute_result"
    }
   ],
   "source": [
    "y_"
   ]
  },
  {
   "cell_type": "markdown",
   "metadata": {},
   "source": [
    "## 평균제곱근 오차 함수 "
   ]
  },
  {
   "cell_type": "code",
   "execution_count": 24,
   "metadata": {},
   "outputs": [],
   "source": [
    "rmse = tf.sqrt(tf.reduce_mean(tf.square(y - y_data)))"
   ]
  },
  {
   "cell_type": "markdown",
   "metadata": {},
   "source": [
    "## 학습률"
   ]
  },
  {
   "cell_type": "code",
   "execution_count": 27,
   "metadata": {},
   "outputs": [],
   "source": [
    "learning_rate = 0.1"
   ]
  },
  {
   "cell_type": "markdown",
   "metadata": {},
   "source": [
    "## 경사하강"
   ]
  },
  {
   "cell_type": "code",
   "execution_count": 28,
   "metadata": {},
   "outputs": [],
   "source": [
    "gradient_decent = tf.train.GradientDescentOptimizer(learning_rate).minimize(rmse)"
   ]
  },
  {
   "cell_type": "code",
   "execution_count": null,
   "metadata": {},
   "outputs": [],
   "source": []
  },
  {
   "cell_type": "code",
   "execution_count": 30,
   "metadata": {},
   "outputs": [
    {
     "name": "stdout",
     "output_type": "stream",
     "text": [
      " Epoch : 0, RSME = 30.2139,  기울기 a= 7.5235, y절편 : b = 80.5984\n",
      " Epoch : 100, RSME = 2.8860,  기울기 a= 2.2299, y절편 : b = 79.4181\n",
      " Epoch : 200, RSME = 2.8826,  기울기 a= 2.2601, y절편 : b = 79.2379\n",
      " Epoch : 300, RSME = 2.8815,  기울기 a= 2.2773, y절편 : b = 79.1353\n",
      " Epoch : 400, RSME = 2.8811,  기울기 a= 2.2871, y절편 : b = 79.0770\n",
      " Epoch : 500, RSME = 2.8810,  기울기 a= 2.2927, y절편 : b = 79.0438\n",
      " Epoch : 600, RSME = 2.8810,  기울기 a= 2.2958, y절편 : b = 79.0249\n",
      " Epoch : 700, RSME = 2.8810,  기울기 a= 2.2976, y절편 : b = 79.0142\n",
      " Epoch : 800, RSME = 2.8810,  기울기 a= 2.2987, y절편 : b = 79.0081\n",
      " Epoch : 900, RSME = 2.8810,  기울기 a= 2.2992, y절편 : b = 79.0046\n",
      " Epoch : 1000, RSME = 2.8810,  기울기 a= 2.2996, y절편 : b = 79.0026\n",
      " Epoch : 1100, RSME = 2.8810,  기울기 a= 2.2998, y절편 : b = 79.0015\n",
      " Epoch : 1200, RSME = 2.8810,  기울기 a= 2.2999, y절편 : b = 79.0008\n",
      " Epoch : 1300, RSME = 2.8810,  기울기 a= 2.2999, y절편 : b = 79.0005\n",
      " Epoch : 1400, RSME = 2.8810,  기울기 a= 2.3000, y절편 : b = 79.0003\n",
      " Epoch : 1500, RSME = 2.8810,  기울기 a= 2.3000, y절편 : b = 79.0002\n",
      " Epoch : 1600, RSME = 2.8810,  기울기 a= 2.3000, y절편 : b = 79.0001\n",
      " Epoch : 1700, RSME = 2.8810,  기울기 a= 2.3000, y절편 : b = 79.0001\n",
      " Epoch : 1800, RSME = 2.8810,  기울기 a= 2.3000, y절편 : b = 79.0000\n",
      " Epoch : 1900, RSME = 2.8810,  기울기 a= 2.3000, y절편 : b = 79.0000\n",
      " Epoch : 2000, RSME = 2.8810,  기울기 a= 2.3000, y절편 : b = 79.0000\n"
     ]
    }
   ],
   "source": [
    "with tf.Session() as sess :\n",
    "    sess.run(tf.global_variables_initializer())\n",
    "    \n",
    "    for step in range(2001) :\n",
    "        sess.run(gradient_decent)\n",
    "        if step % 100 == 0 :\n",
    "            print(\" Epoch : %.f, RSME = %.04f,  기울기 a= %.4f, y절편 : b = %.4f\" % (step, sess.run(rmse), sess.run(a), sess.run(b)))"
   ]
  },
  {
   "cell_type": "code",
   "execution_count": null,
   "metadata": {},
   "outputs": [],
   "source": []
  }
 ],
 "metadata": {
  "kernelspec": {
   "display_name": "Python 3",
   "language": "python",
   "name": "python3"
  },
  "language_info": {
   "codemirror_mode": {
    "name": "ipython",
    "version": 3
   },
   "file_extension": ".py",
   "mimetype": "text/x-python",
   "name": "python",
   "nbconvert_exporter": "python",
   "pygments_lexer": "ipython3",
   "version": "3.7.3"
  }
 },
 "nbformat": 4,
 "nbformat_minor": 2
}
