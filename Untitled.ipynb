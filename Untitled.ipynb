{
 "cells": [
  {
   "cell_type": "code",
   "execution_count": 1,
   "metadata": {},
   "outputs": [],
   "source": [
    "import matplotlib.pyplot as plt"
   ]
  },
  {
   "cell_type": "code",
   "execution_count": 2,
   "metadata": {},
   "outputs": [],
   "source": [
    "import numpy as np"
   ]
  },
  {
   "cell_type": "code",
   "execution_count": 3,
   "metadata": {},
   "outputs": [],
   "source": [
    "%matplotlib inline\n",
    "\n",
    "X = np.arange(-1.0, 1.0, 0.1)\n",
    "Y = np.arange(-1.0, 1.0, 0.1)\n",
    "\n",
    "w_im = np.array([[1.0,2.0],\n",
    "                 [2.0,3.0]])\n",
    "w_mo = np.array([[-1.0,1.0],\n",
    "                 [1.0,-1.0]])\n",
    "\n",
    "b_im = np.array([0.3, -0.3])\n",
    "b_mo = np.array([0.4,0.1])\n",
    "\n",
    "def middle_layer(x,w,b):\n",
    "    u = np.dot(x,w) + b\n",
    "    return 1/(1+np.exp(-u))\n",
    "\n",
    "def output_layer(x,w,b):\n",
    "    u = np.dot(x,w) + b\n",
    "    return np.exp(u)/np.sum(np.exp(u))\n",
    "\n",
    "x_1 = []\n",
    "y_1 = []\n",
    "x_2 = []\n",
    "y_2 = []\n",
    "\n",
    "for i in range(20):\n",
    "    for j in range(20):\n",
    "        \n",
    "        inp = np.array(X[i], Y[j])\n",
    "        mid = middle_layer(inp, w_im, b_im)\n",
    "        out = output_layer(mid, w_mo, b_mo)\n",
    "        \n",
    "        if (out[0] > out[1]).any() :\n",
    "            x_1.append(X[i])\n",
    "            y_1.append(Y[j])\n",
    "        else:\n",
    "            x_2.append(X[i])\n",
    "            y_2.append(Y[j])\n",
    "            \n"
   ]
  },
  {
   "cell_type": "code",
   "execution_count": 6,
   "metadata": {},
   "outputs": [
    {
     "data": {
      "image/png": "[encoded data removed]",
      "text/plain": [
       "<Figure size 432x288 with 1 Axes>"
      ]
     },
     "metadata": {
      "needs_background": "light"
     },
     "output_type": "display_data"
    }
   ],
   "source": [
    "plt.scatter(x_1, y_1, marker=\"+\")\n",
    "plt.scatter(x_2, y_2, marker=\"o\")\n",
    "plt.show()"
   ]
  },
  {
   "cell_type": "code",
   "execution_count": 5,
   "metadata": {},
   "outputs": [
    {
     "data": {
      "image/png": "[encoded data removed]",
      "text/plain": [
       "<Figure size 432x288 with 1 Axes>"
      ]
     },
     "metadata": {
      "needs_background": "light"
     },
     "output_type": "display_data"
    }
   ],
   "source": [
    "plt.scatter(x_2, y_2, marker=\"o\")\n",
    "plt.show()"
   ]
  },
  {
   "cell_type": "code",
   "execution_count": 12,
   "metadata": {},
   "outputs": [
    {
     "name": "stdout",
     "output_type": "stream",
     "text": [
      "Dahl 33\n"
     ]
    }
   ],
   "source": [
    "import collections as col\n",
    "\n",
    "Record = col.namedtuple(\"Record\", 'name age')\n",
    "\n",
    "r = Record(\"Dahl\", 33)\n",
    "\n",
    "print(r.name, r.age)"
   ]
  },
  {
   "cell_type": "code",
   "execution_count": 14,
   "metadata": {},
   "outputs": [
    {
     "name": "stdout",
     "output_type": "stream",
     "text": [
      "Writing record.txt\n"
     ]
    }
   ],
   "source": [
    "%%writefile record.txt\n",
    "Dahl 33\n",
    "Doll 22"
   ]
  },
  {
   "cell_type": "code",
   "execution_count": 22,
   "metadata": {
    "scrolled": true
   },
   "outputs": [
    {
     "name": "stdout",
     "output_type": "stream",
     "text": [
      "['Dahl', '33\\n']\n",
      "Dahl 33\n",
      "['Doll', '22\\n']\n",
      "Doll 22\n"
     ]
    }
   ],
   "source": [
    "f = open('record.txt','r')\n",
    "\n",
    "for i in f :\n",
    "    print(i.split(\" \"))\n",
    "    i = i.split(\" \")\n",
    "    r = Record(i[0], int(i[1].strip()))\n",
    "\n",
    "    print(r.name, r.age)"
   ]
  },
  {
   "cell_type": "code",
   "execution_count": 23,
   "metadata": {},
   "outputs": [
    {
     "name": "stdout",
     "output_type": "stream",
     "text": [
      "['Dahl', '33\\n']\n",
      "Dahl 33\n",
      "\n",
      "['Doll', '22\\n']\n",
      "Doll 22\n",
      "\n"
     ]
    }
   ],
   "source": [
    "f = open('record.txt','r')\n",
    "\n",
    "for i in f :\n",
    "    print(i.split(\" \"))\n",
    "    i = i.split(\" \")\n",
    "    r = Record(*i)\n",
    "\n",
    "    print(r.name, r.age)"
   ]
  },
  {
   "cell_type": "code",
   "execution_count": 24,
   "metadata": {},
   "outputs": [
    {
     "name": "stdout",
     "output_type": "stream",
     "text": [
      "['Dahl', '33\\n']\n",
      "Dahl 33\n",
      "\n",
      "['Doll', '22\\n']\n",
      "Doll 22\n",
      "\n"
     ]
    }
   ],
   "source": [
    "import collections as col\n",
    "\n",
    "Record = col.namedtuple(\"Record\", 'name age')\n",
    "f = open('record.txt','r')\n",
    "\n",
    "for i in f :\n",
    "    print(i.split(\" \"))\n",
    "    i = i.split(\" \")\n",
    "    r = Record(*i)\n",
    "\n",
    "    print(r.name, r.age)"
   ]
  },
  {
   "cell_type": "code",
   "execution_count": null,
   "metadata": {},
   "outputs": [],
   "source": []
  }
 ],
 "metadata": {
  "kernelspec": {
   "display_name": "Python 3",
   "language": "python",
   "name": "python3"
  },
  "language_info": {
   "codemirror_mode": {
    "name": "ipython",
    "version": 3
   },
   "file_extension": ".py",
   "mimetype": "text/x-python",
   "name": "python",
   "nbconvert_exporter": "python",
   "pygments_lexer": "ipython3",
   "version": "3.7.3"
  }
 },
 "nbformat": 4,
 "nbformat_minor": 2
}
